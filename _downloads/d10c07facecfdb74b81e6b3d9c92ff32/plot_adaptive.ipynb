{
  "cells": [
    {
      "cell_type": "markdown",
      "metadata": {},
      "source": [
        "\n# Using adaptive regularization\n\nAdaptive or iteratively re-weighted regularization is a technique that can improve\nfeature selection properties over the standard Lasso and Group Lasso extensions. In\nthis example we compare the performance of the standard Lasso with adaptive Lasso.\n"
      ]
    },
    {
      "cell_type": "code",
      "execution_count": null,
      "metadata": {
        "collapsed": false
      },
      "outputs": [],
      "source": [
        "import matplotlib.pyplot as plt\nimport numpy as np\nfrom sklearn.datasets import make_regression\nfrom sklearn.linear_model import Lasso\nfrom sklearn.metrics import mean_squared_error, r2_score\nfrom sklearn.model_selection import GridSearchCV, KFold, train_test_split\n\nfrom sparselm.model import AdaptiveLasso\n\nX, y, coef = make_regression(\n    n_samples=200,\n    n_features=100,\n    n_informative=10,\n    noise=40.0,\n    bias=-15.0,\n    coef=True,\n    random_state=0,\n)\n\nX_train, X_test, y_train, y_test = train_test_split(\n    X, y, test_size=0.25, random_state=0\n)\n\n# create estimators\nlasso = Lasso(fit_intercept=True)\nalasso = AdaptiveLasso(max_iter=5, fit_intercept=True)\n\n# create cv search objects for each estimator\ncv5 = KFold(n_splits=5, shuffle=True, random_state=0)\nparams = {\"alpha\": np.logspace(-1, 1, 10)}\n\nlasso_cv = GridSearchCV(lasso, params, cv=cv5, n_jobs=-1)\nalasso_cv = GridSearchCV(alasso, params, cv=cv5, n_jobs=-1)\n\n# fit models on training data\nlasso_cv.fit(X_train, y_train)\nalasso_cv.fit(X_train, y_train)\n\n# calculate model performance on test and train data\nlasso_train = {\n    \"r2\": r2_score(y_train, lasso_cv.predict(X_train)),\n    \"rmse\": np.sqrt(mean_squared_error(y_train, lasso_cv.predict(X_train))),\n}\n\nlasso_test = {\n    \"r2\": r2_score(y_test, lasso_cv.predict(X_test)),\n    \"rmse\": np.sqrt(mean_squared_error(y_test, lasso_cv.predict(X_test))),\n}\n\nalasso_train = {\n    \"r2\": r2_score(y_train, alasso_cv.predict(X_train)),\n    \"rmse\": np.sqrt(mean_squared_error(y_train, alasso_cv.predict(X_train))),\n}\n\nalasso_test = {\n    \"r2\": r2_score(y_test, alasso_cv.predict(X_test)),\n    \"rmse\": np.sqrt(mean_squared_error(y_test, alasso_cv.predict(X_test))),\n}\n\nprint(\"Lasso performance metrics:\")\nprint(f\"    train r2: {lasso_train['r2']:.3f}\")\nprint(f\"    test r2: {lasso_test['r2']:.3f}\")\nprint(f\"    train rmse: {lasso_train['rmse']:.3f}\")\nprint(f\"    test rmse: {lasso_test['rmse']:.3f}\")\n\nprint(\"Adaptive Lasso performance metrics:\")\nprint(f\"    train r2: {alasso_train['r2']:.3f}\")\nprint(f\"    test r2: {alasso_test['r2']:.3f}\")\nprint(f\"    train rmse: {alasso_train['rmse']:.3f}\")\nprint(f\"    test rmse: {alasso_test['rmse']:.3f}\")\n\n# plot predicted values\nfig, ax = plt.subplots()\nax.plot(y_test, lasso_cv.predict(X_test), \"o\", label=\"lasso\", alpha=0.5)\nax.plot(y_test, alasso_cv.predict(X_test), \"o\", label=\"adaptive lasso\", alpha=0.5)\nax.plot([y_test.min(), y_test.max()], [y_test.min(), y_test.max()], \"k--\")\nax.set_xlabel(\"true values\")\nax.set_ylabel(\"predicted values\")\nax.legend()\nfig.show()\n\n# plot model coefficients\nfig, ax = plt.subplots()\nax.plot(coef, \"o\", label=\"True coefficients\")\nax.plot(lasso_cv.best_estimator_.coef_, \"o\", label=\"Lasso\", alpha=0.5)\nax.plot(alasso_cv.best_estimator_.coef_, \"o\", label=\"Adaptive Lasso\", alpha=0.5)\nax.set_xlabel(\"covariate index\")\nax.set_ylabel(\"coefficient value\")\nfig.show()"
      ]
    }
  ],
  "metadata": {
    "kernelspec": {
      "display_name": "Python 3",
      "language": "python",
      "name": "python3"
    },
    "language_info": {
      "codemirror_mode": {
        "name": "ipython",
        "version": 3
      },
      "file_extension": ".py",
      "mimetype": "text/x-python",
      "name": "python",
      "nbconvert_exporter": "python",
      "pygments_lexer": "ipython3",
      "version": "3.9.17"
    }
  },
  "nbformat": 4,
  "nbformat_minor": 0
}