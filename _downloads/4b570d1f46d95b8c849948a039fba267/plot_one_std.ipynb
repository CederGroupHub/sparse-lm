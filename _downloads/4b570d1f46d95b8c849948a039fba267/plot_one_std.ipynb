{
  "cells": [
    {
      "cell_type": "markdown",
      "metadata": {},
      "source": [
        "\n# Hyperparameters selection with 1-std rule\n\nOne-standard-deviation rule is a technique to promote model robustness when\ncross validation results are noisy. The hyperparameter is chosen to\nbe equal to the maximum value that yields:\n     CV = minimum CV + 1 * std(CV at minimum).\n\nOne-standard-deviation rule is available in both GridSearchCV and LineSearchCV\nunder sparselm.model_selection.\n"
      ]
    },
    {
      "cell_type": "code",
      "execution_count": null,
      "metadata": {
        "collapsed": false
      },
      "outputs": [],
      "source": [
        "import matplotlib.pyplot as plt\nimport numpy as np\nfrom sklearn.datasets import make_regression\nfrom sklearn.linear_model import Lasso\nfrom sklearn.metrics import mean_squared_error, r2_score\nfrom sklearn.model_selection import KFold, train_test_split\n\nfrom sparselm.model_selection import GridSearchCV\n\nX, y, coef = make_regression(\n    n_samples=200,\n    n_features=100,\n    n_informative=10,\n    noise=40.0,\n    bias=-15.0,\n    coef=True,\n    random_state=0,\n)\n\nX_train, X_test, y_train, y_test = train_test_split(\n    X, y, test_size=0.25, random_state=0\n)\n\n# create estimators\nlasso = Lasso(fit_intercept=True)\n\n# create cv search objects for each estimator\ncv5 = KFold(n_splits=5, shuffle=True, random_state=0)\nparams = {\"alpha\": np.logspace(-1, 1.5, 20)}\n\nlasso_cv_std = GridSearchCV(\n    lasso, params, opt_selection_method=\"one_std_score\", cv=cv5, n_jobs=-1\n)\nlasso_cv_opt = GridSearchCV(\n    lasso, params, opt_selection_method=\"max_score\", cv=cv5, n_jobs=-1\n)\n\n# fit models on training data\nlasso_cv_std.fit(X_train, y_train)\nlasso_cv_opt.fit(X_train, y_train)\n\n# calculate model performance on test and train data\nlasso_std_train = {\n    \"r2\": r2_score(y_train, lasso_cv_std.predict(X_train)),\n    \"rmse\": np.sqrt(mean_squared_error(y_train, lasso_cv_std.predict(X_train))),\n}\n\nlasso_std_test = {\n    \"r2\": r2_score(y_test, lasso_cv_std.predict(X_test)),\n    \"rmse\": np.sqrt(mean_squared_error(y_test, lasso_cv_std.predict(X_test))),\n}\n\nprint(\"Lasso with 1-std:\")\nprint(f\"    alpha value: {lasso_cv_std.best_params_['alpha']}\")\nprint(f\"    train r2: {lasso_std_train['r2']:.3f}\")\nprint(f\"    test r2: {lasso_std_test['r2']:.3f}\")\nprint(f\"    train rmse: {lasso_std_train['rmse']:.3f}\")\nprint(f\"    test rmse: {lasso_std_test['rmse']:.3f}\")\nprint(f\"    sparsity: {sum(abs(lasso_cv_std.best_estimator_.coef_) > 1E-8)}\")\n\nlasso_opt_train = {\n    \"r2\": r2_score(y_train, lasso_cv_opt.predict(X_train)),\n    \"rmse\": np.sqrt(mean_squared_error(y_train, lasso_cv_opt.predict(X_train))),\n}\n\nlasso_opt_test = {\n    \"r2\": r2_score(y_test, lasso_cv_opt.predict(X_test)),\n    \"rmse\": np.sqrt(mean_squared_error(y_test, lasso_cv_opt.predict(X_test))),\n}\n\nprint(\"Lasso performance:\")\nprint(f\"    alpha value: {lasso_cv_std.best_params_['alpha']}\")\nprint(f\"    train r2: {lasso_opt_train['r2']:.3f}\")\nprint(f\"    test r2: {lasso_opt_test['r2']:.3f}\")\nprint(f\"    train rmse: {lasso_opt_train['rmse']:.3f}\")\nprint(f\"    test rmse: {lasso_opt_test['rmse']:.3f}\")\nprint(f\"    sparsity: {sum(abs(lasso_cv_opt.best_estimator_.coef_) > 1E-8)}\")\n\n# plot cross validation scores\nfig, ax = plt.subplots()\nax.plot(\n    lasso_cv_std.cv_results_[\"param_alpha\"].data,\n    -lasso_cv_std.cv_results_[\"mean_test_score\"],\n    \"o-\",\n    label=\"One std\",\n)\nax.plot(\n    lasso_cv_std.cv_results_[\"param_alpha\"].data,\n    -lasso_cv_opt.cv_results_[\"mean_test_score\"]\n    + lasso_cv_std.cv_results_[\"std_test_score\"],\n    \"k--\",\n    alpha=0.5,\n)\nax.plot(\n    lasso_cv_std.cv_results_[\"param_alpha\"].data,\n    -lasso_cv_opt.cv_results_[\"mean_test_score\"]\n    - lasso_cv_std.cv_results_[\"std_test_score\"],\n    \"k--\",\n    alpha=0.5,\n)\nax.set_xlabel(\"alpha\")\nax.set_ylabel(\"rmse\")\nax.legend([\"mean\", \"std\"])\nfig.show()\n\n# plot model coefficients\nfig, ax = plt.subplots()\nax.plot(coef, \"o\", label=\"True coefficients\")\nax.plot(lasso_cv_std.best_estimator_.coef_, \"o\", label=\"One std\", alpha=0.5)\nax.plot(lasso_cv_opt.best_estimator_.coef_, \"o\", label=\"Max score\", alpha=0.5)\nax.set_xlabel(\"covariate index\")\nax.set_ylabel(\"coefficient value\")\nax.legend()\nfig.show()"
      ]
    }
  ],
  "metadata": {
    "kernelspec": {
      "display_name": "Python 3",
      "language": "python",
      "name": "python3"
    },
    "language_info": {
      "codemirror_mode": {
        "name": "ipython",
        "version": 3
      },
      "file_extension": ".py",
      "mimetype": "text/x-python",
      "name": "python",
      "nbconvert_exporter": "python",
      "pygments_lexer": "ipython3",
      "version": "3.9.17"
    }
  },
  "nbformat": 4,
  "nbformat_minor": 0
}