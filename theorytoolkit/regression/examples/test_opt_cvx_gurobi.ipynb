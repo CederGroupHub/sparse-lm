{
 "cells": [
  {
   "cell_type": "markdown",
   "metadata": {},
   "source": [
    "# Creating a basic Cluster Expansion"
   ]
  },
  {
   "cell_type": "code",
   "execution_count": 1,
   "metadata": {},
   "outputs": [],
   "source": [
    "import numpy as np\n",
    "import json\n",
    "from pymatgen.core import Structure\n",
    "from smol.cofe import ClusterSubspace, StructureWrangler, ClusterExpansion\n",
    "from smol.cofe.space import Cluster\n",
    "from smol.cofe.extern import EwaldTerm\n",
    "\n",
    "import matplotlib.pyplot as plt\n",
    "import matplotlib\n",
    "import pickle\n"
   ]
  },
  {
   "cell_type": "code",
   "execution_count": null,
   "metadata": {},
   "outputs": [],
   "source": []
  },
  {
   "cell_type": "code",
   "execution_count": 2,
   "metadata": {},
   "outputs": [],
   "source": [
    "prim = Structure.from_file('./DataSet_forTest/LiF.cif')\n",
    "ro = {'Li+':{'Li+':1/3, 'Mn3+':1/3, 'Ti4+':1/3 }, 'F-':{'O2-': 1/2, 'F-': 1/2}}\n",
    "\n",
    "prim.replace_species(ro)"
   ]
  },
  {
   "cell_type": "code",
   "execution_count": null,
   "metadata": {},
   "outputs": [],
   "source": []
  },
  {
   "cell_type": "code",
   "execution_count": 3,
   "metadata": {},
   "outputs": [
    {
     "name": "stdout",
     "output_type": "stream",
     "text": [
      "ClusterBasis: [Prim Composition] Li+0.33333333 Mn3+0.33333333 Ti4+0.33333333 O2-0.5 F-0.5\n",
      "    [Size] 0\n",
      "      [Orbit] id: 0  orderings: 1\n",
      "    [Size] 1\n",
      "      [Orbit] id: 1  orderings: 2   multiplicity: 1    no. symops: 48  \n",
      "        [SiteSpace: Li0.33333333 Ti0.33333333 Mn0.33333333]\n",
      "        [Base Cluster] Radius: 0.0   Centroid: [0. 0. 0.]         Points: [[0. 0. 0.]]         \n",
      "      [Orbit] id: 2  orderings: 1   multiplicity: 1    no. symops: 48  \n",
      "        [SiteSpace: O0.5 F0.5]\n",
      "        [Base Cluster] Radius: 0.0   Centroid: [0.5 0.5 0.5]      Points: [[0.5 0.5 0.5]]      \n",
      "    [Size] 2\n",
      "      [Orbit] id: 3  orderings: 2   multiplicity: 6    no. symops: 8   \n",
      "        [SiteSpace: Li0.33333333 Ti0.33333333 Mn0.33333333, SiteSpace: O0.5 F0.5]\n",
      "        [Base Cluster] Radius: 1.05  Centroid: [0.75 0.75 0.25]   Points: [[1.  1.  0. ]  [0.5 0.5 0.5]]            \n",
      "      [Orbit] id: 4  orderings: 3   multiplicity: 6    no. symops: 8   \n",
      "        [SiteSpace: Li0.33333333 Ti0.33333333 Mn0.33333333, SiteSpace: Li0.33333333 Ti0.33333333 Mn0.33333333]\n",
      "        [Base Cluster] Radius: 1.48  Centroid: [0.  0.  0.5]      Points: [[0. 0. 1.]  [0. 0. 0.]]                  \n",
      "      [Orbit] id: 5  orderings: 1   multiplicity: 6    no. symops: 8   \n",
      "        [SiteSpace: O0.5 F0.5, SiteSpace: O0.5 F0.5]\n",
      "        [Base Cluster] Radius: 1.48  Centroid: [0.  0.  0.5]      Points: [[ 0.5 -0.5  0.5]  [-0.5  0.5  0.5]]      \n",
      "      [Orbit] id: 6  orderings: 2   multiplicity: 8    no. symops: 6   \n",
      "        [SiteSpace: Li0.33333333 Ti0.33333333 Mn0.33333333, SiteSpace: O0.5 F0.5]\n",
      "        [Base Cluster] Radius: 1.82  Centroid: [0.25 0.25 0.25]   Points: [[ 0.   1.   0. ]  [ 0.5 -0.5  0.5]]      \n",
      "      [Orbit] id: 7  orderings: 3   multiplicity: 3    no. symops: 16  \n",
      "        [SiteSpace: Li0.33333333 Ti0.33333333 Mn0.33333333, SiteSpace: Li0.33333333 Ti0.33333333 Mn0.33333333]\n",
      "        [Base Cluster] Radius: 2.1   Centroid: [0.5 0.5 0.5]      Points: [[1. 1. 0.]  [0. 0. 1.]]                  \n",
      "      [Orbit] id: 8  orderings: 1   multiplicity: 3    no. symops: 16  \n",
      "        [SiteSpace: O0.5 F0.5, SiteSpace: O0.5 F0.5]\n",
      "        [Base Cluster] Radius: 2.1   Centroid: [0. 0. 0.]         Points: [[ 0.5  0.5 -0.5]  [-0.5 -0.5  0.5]]      \n",
      "      [Orbit] id: 9  orderings: 2   multiplicity: 24   no. symops: 2   \n",
      "        [SiteSpace: Li0.33333333 Ti0.33333333 Mn0.33333333, SiteSpace: O0.5 F0.5]\n",
      "        [Base Cluster] Radius: 2.35  Centroid: [0.25 0.25 0.75]   Points: [[ 0.   1.   1. ]  [ 0.5 -0.5  0.5]]      \n",
      "      [Orbit] id: 10 orderings: 3   multiplicity: 12   no. symops: 4   \n",
      "        [SiteSpace: Li0.33333333 Ti0.33333333 Mn0.33333333, SiteSpace: Li0.33333333 Ti0.33333333 Mn0.33333333]\n",
      "        [Base Cluster] Radius: 2.57  Centroid: [0.  0.5 0.5]      Points: [[0. 1. 1.]  [0. 0. 0.]]                  \n",
      "      [Orbit] id: 11 orderings: 1   multiplicity: 12   no. symops: 4   \n",
      "        [SiteSpace: O0.5 F0.5, SiteSpace: O0.5 F0.5]\n",
      "        [Base Cluster] Radius: 2.57  Centroid: [0.  0.  0.5]      Points: [[ 0.5  0.5  0.5]  [-0.5 -0.5  0.5]]      \n",
      "      [Orbit] id: 12 orderings: 3   multiplicity: 6    no. symops: 8   \n",
      "        [SiteSpace: Li0.33333333 Ti0.33333333 Mn0.33333333, SiteSpace: Li0.33333333 Ti0.33333333 Mn0.33333333]\n",
      "        [Base Cluster] Radius: 2.97  Centroid: [0. 0. 0.]         Points: [[ 0.  0.  1.]  [ 0.  0. -1.]]            \n",
      "      [Orbit] id: 13 orderings: 1   multiplicity: 6    no. symops: 8   \n",
      "        [SiteSpace: O0.5 F0.5, SiteSpace: O0.5 F0.5]\n",
      "        [Base Cluster] Radius: 2.97  Centroid: [0.5 0.5 0.5]      Points: [[ 0.5  1.5  0.5]  [ 0.5 -0.5  0.5]]      \n",
      "      [Orbit] id: 14 orderings: 2   multiplicity: 24   no. symops: 2   \n",
      "        [SiteSpace: Li0.33333333 Ti0.33333333 Mn0.33333333, SiteSpace: O0.5 F0.5]\n",
      "        [Base Cluster] Radius: 3.15  Centroid: [0.25 0.75 0.25]   Points: [[ 0.   2.   0. ]  [ 0.5 -0.5  0.5]]      \n",
      "      [Orbit] id: 15 orderings: 2   multiplicity: 6    no. symops: 8   \n",
      "        [SiteSpace: Li0.33333333 Ti0.33333333 Mn0.33333333, SiteSpace: O0.5 F0.5]\n",
      "        [Base Cluster] Radius: 3.15  Centroid: [0.25 0.25 0.75]   Points: [[ 1.   1.   0. ]  [-0.5 -0.5  1.5]]      \n",
      "      [Orbit] id: 16 orderings: 3   multiplicity: 12   no. symops: 4   \n",
      "        [SiteSpace: Li0.33333333 Ti0.33333333 Mn0.33333333, SiteSpace: Li0.33333333 Ti0.33333333 Mn0.33333333]\n",
      "        [Base Cluster] Radius: 3.32  Centroid: [0.5 0.  0.5]      Points: [[ 1.  1.  0.]  [ 0. -1.  1.]]            \n",
      "      [Orbit] id: 17 orderings: 1   multiplicity: 12   no. symops: 4   \n",
      "        [SiteSpace: O0.5 F0.5, SiteSpace: O0.5 F0.5]\n",
      "        [Base Cluster] Radius: 3.32  Centroid: [0.  0.5 0.5]      Points: [[ 0.5  1.5 -0.5]  [-0.5 -0.5  1.5]]      \n",
      "      [Orbit] id: 18 orderings: 2   multiplicity: 24   no. symops: 2   \n",
      "        [SiteSpace: Li0.33333333 Ti0.33333333 Mn0.33333333, SiteSpace: O0.5 F0.5]\n",
      "        [Base Cluster] Radius: 3.48  Centroid: [0.25 0.25 0.25]   Points: [[ 0.   1.   1. ]  [ 0.5 -0.5 -0.5]]      \n",
      "    [Size] 3\n",
      "      [Orbit] id: 19 orderings: 3   multiplicity: 12   no. symops: 4   \n",
      "        [SiteSpace: Li0.33333333 Ti0.33333333 Mn0.33333333, SiteSpace: O0.5 F0.5, SiteSpace: Li0.33333333 Ti0.33333333 Mn0.33333333]\n",
      "        [Base Cluster] Radius: 1.48  Centroid: [0.83 0.5  0.5 ]   Points: [[1.  1.  0. ]  [0.5 0.5 0.5]  [1.  0.  1. ]]                  \n",
      "      [Orbit] id: 20 orderings: 2   multiplicity: 12   no. symops: 4   \n",
      "        [SiteSpace: Li0.33333333 Ti0.33333333 Mn0.33333333, SiteSpace: O0.5 F0.5, SiteSpace: O0.5 F0.5]\n",
      "        [Base Cluster] Radius: 1.48  Centroid: [0.   0.67 0.33]   Points: [[ 0.   1.   0. ]  [-0.5  0.5  0.5]  [ 0.5  0.5  0.5]]         \n",
      "      [Orbit] id: 21 orderings: 4   multiplicity: 8    no. symops: 6   \n",
      "        [SiteSpace: Li0.33333333 Ti0.33333333 Mn0.33333333, SiteSpace: Li0.33333333 Ti0.33333333 Mn0.33333333, SiteSpace: Li0.33333333 Ti0.33333333 Mn0.33333333]\n",
      "        [Base Cluster] Radius: 1.48  Centroid: [0.   0.67 0.67]   Points: [[0. 1. 1.]  [0. 1. 0.]  [0. 0. 1.]]                           \n",
      "      [Orbit] id: 22 orderings: 1   multiplicity: 8    no. symops: 6   \n",
      "        [SiteSpace: O0.5 F0.5, SiteSpace: O0.5 F0.5, SiteSpace: O0.5 F0.5]\n",
      "        [Base Cluster] Radius: 1.48  Centroid: [0.83 0.83 0.5 ]   Points: [[1.5 0.5 0.5]  [0.5 1.5 0.5]  [0.5 0.5 0.5]]                  \n",
      "      [Orbit] id: 23 orderings: 2   multiplicity: 24   no. symops: 2   \n",
      "        [SiteSpace: Li0.33333333 Ti0.33333333 Mn0.33333333, SiteSpace: O0.5 F0.5, SiteSpace: O0.5 F0.5]\n",
      "        [Base Cluster] Radius: 1.82  Centroid: [0.33 0.   0.33]   Points: [[ 1.   0.   0. ]  [ 0.5 -0.5  0.5]  [-0.5  0.5  0.5]]         \n",
      "      [Orbit] id: 24 orderings: 4   multiplicity: 24   no. symops: 2   \n",
      "        [SiteSpace: Li0.33333333 Ti0.33333333 Mn0.33333333, SiteSpace: O0.5 F0.5, SiteSpace: Li0.33333333 Ti0.33333333 Mn0.33333333]\n",
      "        [Base Cluster] Radius: 1.82  Centroid: [0.17 0.5  0.17]   Points: [[ 0.   1.   0. ]  [-0.5  0.5  0.5]  [ 1.   0.   0. ]]         \n",
      "    [Size] 4\n",
      "      [Orbit] id: 25 orderings: 4   multiplicity: 8    no. symops: 6   \n",
      "        [SiteSpace: Li0.33333333 Ti0.33333333 Mn0.33333333, SiteSpace: O0.5 F0.5, SiteSpace: Li0.33333333 Ti0.33333333 Mn0.33333333, SiteSpace: Li0.33333333 Ti0.33333333 Mn0.33333333]\n",
      "        [Base Cluster] Radius: 1.48  Centroid: [0.88 0.38 0.38]   Points: [[1.  1.  0. ]  [0.5 0.5 0.5]  [1.  0.  1. ]  [1.  0.  0. ]]                        \n",
      "      [Orbit] id: 26 orderings: 2   multiplicity: 8    no. symops: 6   \n",
      "        [SiteSpace: Li0.33333333 Ti0.33333333 Mn0.33333333, SiteSpace: O0.5 F0.5, SiteSpace: O0.5 F0.5, SiteSpace: O0.5 F0.5]\n",
      "        [Base Cluster] Radius: 1.48  Centroid: [0.88 0.88 0.38]   Points: [[1.  1.  0. ]  [0.5 0.5 0.5]  [1.5 0.5 0.5]  [0.5 1.5 0.5]]                        \n",
      "      [Orbit] id: 27 orderings: 3   multiplicity: 6    no. symops: 8   \n",
      "        [SiteSpace: Li0.33333333 Ti0.33333333 Mn0.33333333, SiteSpace: O0.5 F0.5, SiteSpace: Li0.33333333 Ti0.33333333 Mn0.33333333, SiteSpace: O0.5 F0.5]\n",
      "        [Base Cluster] Radius: 1.48  Centroid: [0.  0.5 0.5]      Points: [[ 0.   1.   0. ]  [-0.5  0.5  0.5]  [ 0.   0.   1. ]  [ 0.5  0.5  0.5]]            \n",
      "      [Orbit] id: 28 orderings: 5   multiplicity: 2    no. symops: 24  \n",
      "        [SiteSpace: Li0.33333333 Ti0.33333333 Mn0.33333333, SiteSpace: Li0.33333333 Ti0.33333333 Mn0.33333333, SiteSpace: Li0.33333333 Ti0.33333333 Mn0.33333333, SiteSpace: Li0.33333333 Ti0.33333333 Mn0.33333333]\n",
      "        [Base Cluster] Radius: 1.48  Centroid: [0.75 0.75 0.75]   Points: [[1. 1. 1.]  [1. 1. 0.]  [1. 0. 1.]  [0. 1. 1.]]                                    \n",
      "      [Orbit] id: 29 orderings: 1   multiplicity: 2    no. symops: 24  \n",
      "        [SiteSpace: O0.5 F0.5, SiteSpace: O0.5 F0.5, SiteSpace: O0.5 F0.5, SiteSpace: O0.5 F0.5]\n",
      "        [Base Cluster] Radius: 1.48  Centroid: [0.75 0.75 0.75]   Points: [[1.5 0.5 0.5]  [0.5 1.5 0.5]  [0.5 0.5 0.5]  [0.5 0.5 1.5]]                        \n",
      "      [Orbit] id: 30 orderings: 4   multiplicity: 48   no. symops: 1   \n",
      "        [SiteSpace: Li0.33333333 Ti0.33333333 Mn0.33333333, SiteSpace: O0.5 F0.5, SiteSpace: Li0.33333333 Ti0.33333333 Mn0.33333333, SiteSpace: O0.5 F0.5]\n",
      "        [Base Cluster] Radius: 1.82  Centroid: [0.   0.25 0.5 ]   Points: [[ 0.   1.   0. ]  [-0.5  0.5  0.5]  [ 0.   0.   1. ]  [ 0.5 -0.5  0.5]]            \n",
      "      [Orbit] id: 31 orderings: 6   multiplicity: 24   no. symops: 2   \n",
      "        [SiteSpace: Li0.33333333 Ti0.33333333 Mn0.33333333, SiteSpace: O0.5 F0.5, SiteSpace: Li0.33333333 Ti0.33333333 Mn0.33333333, SiteSpace: Li0.33333333 Ti0.33333333 Mn0.33333333]\n",
      "        [Base Cluster] Radius: 1.82  Centroid: [0.12 0.38 0.38]   Points: [[ 0.   1.   0. ]  [-0.5  0.5  0.5]  [ 0.   0.   1. ]  [ 1.   0.   0. ]]            \n",
      "      [Orbit] id: 32 orderings: 2   multiplicity: 24   no. symops: 2   \n",
      "        [SiteSpace: Li0.33333333 Ti0.33333333 Mn0.33333333, SiteSpace: O0.5 F0.5, SiteSpace: O0.5 F0.5, SiteSpace: O0.5 F0.5]\n",
      "        [Base Cluster] Radius: 1.82  Centroid: [0.88 0.62 0.62]   Points: [[1.  1.  0. ]  [0.5 0.5 0.5]  [1.5 0.5 0.5]  [0.5 0.5 1.5]]                        \n",
      "      [Orbit] id: 33 orderings: 3   multiplicity: 12   no. symops: 4   \n",
      "        [SiteSpace: Li0.33333333 Ti0.33333333 Mn0.33333333, SiteSpace: O0.5 F0.5, SiteSpace: O0.5 F0.5, SiteSpace: Li0.33333333 Ti0.33333333 Mn0.33333333]\n",
      "        [Base Cluster] Radius: 1.82  Centroid: [0.25 0.25 0.25]   Points: [[ 1.   0.   0. ]  [ 0.5 -0.5  0.5]  [-0.5  0.5  0.5]  [ 0.   1.   0. ]]            \n",
      "\n"
     ]
    }
   ],
   "source": [
    "subspace = ClusterSubspace.from_cutoffs(prim,\n",
    "                                      cutoffs={2: 7.1, 3: 4, 4:4}, # will include orbits of 2 and 3 sites.\n",
    "                                      basis='sinusoid',\n",
    "                                      supercell_size='volume')\n",
    "\n",
    "# supercell_size specifies the method to determine the supercell size\n",
    "# when trying to match a structure.\n",
    "# (See pymatgen.structure_mathcer.StructureMatcher for more info)\n",
    "\n",
    "subspace.add_external_term(EwaldTerm(eta=None))\n",
    "\n",
    "print(subspace) # single site and empty orbits are always included."
   ]
  },
  {
   "cell_type": "code",
   "execution_count": 5,
   "metadata": {},
   "outputs": [],
   "source": [
    "with open('./DataSet_forTest/A_valid_7_4_4_MnTiOF_fromBin_sinusoid', 'rb') as fp:\n",
    "    A_valid = pickle.load(fp)\n",
    "\n",
    "with open('./DataSet_forTest/f_valid_7_4_4_MnTiOF_fromBin_sinusoid', 'rb') as fp:\n",
    "    f_valid = pickle.load(fp)\n"
   ]
  },
  {
   "cell_type": "markdown",
   "metadata": {},
   "source": [
    "## Optimization started here"
   ]
  },
  {
   "cell_type": "code",
   "execution_count": 6,
   "metadata": {},
   "outputs": [],
   "source": [
    "from regression.gurobi_optimization import l0l1_diretct_optimize, l0l2_hierarchy_optimize_quicksum\n"
   ]
  },
  {
   "cell_type": "code",
   "execution_count": 7,
   "metadata": {},
   "outputs": [
    {
     "name": "stdout",
     "output_type": "stream",
     "text": [
      "[[], [], [], [], [49, 48, 46, 39, 37, 36], [51, 50, 47, 40, 38, 37], [48, 42, 41, 36], [50, 49, 43, 42, 37], [51, 44, 43, 38], [47, 46, 45, 40, 39], [50, 48, 46], [51, 49, 47], [], [], [], [], [], [], [], [], [], [], [], [], [], [], [], [], [], [], [], [], [], [], [], [], [72, 71, 67, 58, 53, 52], [74, 73, 69, 68, 59, 54, 53], [76, 75, 70, 60, 55, 54], [77, 69, 67, 59, 58, 56], [78, 70, 68, 60, 59, 57], [71, 62, 61, 52], [73, 72, 63, 62, 53], [75, 74, 64, 63, 54], [76, 65, 64, 55], [78, 77, 66, 57, 56], [80, 79, 77, 68, 67], [81, 80, 78, 70, 69], [79, 73, 71, 67], [80, 74, 72, 69], [80, 75, 73, 68], [81, 76, 74, 70], [], [], [], [], [], [], [], [], [], [], [], [], [], [], [], [], [], [], [], [], [], [], [], [], [], [], [], [], [], []]\n"
     ]
    }
   ],
   "source": [
    "correlated_ID = subspace.function_hierarchy(min_size=2, invert= True)\n",
    "print(correlated_ID)"
   ]
  },
  {
   "cell_type": "code",
   "execution_count": 8,
   "metadata": {},
   "outputs": [
    {
     "name": "stdout",
     "output_type": "stream",
     "text": [
      "Academic license - for non-commercial use only - expires 2022-07-15\n",
      "Using license file /Users/zhongpc/gurobi.lic\n",
      "Changed value of parameter TimeLimit to 300.0\n",
      "   Prev: inf  Min: 0.0  Max: inf  Default: inf\n",
      "Changed value of parameter PSDTol to 1e-05\n",
      "   Prev: 1e-06  Min: 0.0  Max: inf  Default: 1e-06\n"
     ]
    }
   ],
   "source": [
    "ecis_gurobi_L0L1 = l0l1_diretct_optimize(A= A_valid, f= f_valid, mu0= 1e-4, mu1= 1e-4)"
   ]
  },
  {
   "cell_type": "code",
   "execution_count": 9,
   "metadata": {},
   "outputs": [
    {
     "name": "stdout",
     "output_type": "stream",
     "text": [
      "Changed value of parameter TimeLimit to 300.0\n",
      "   Prev: inf  Min: 0.0  Max: inf  Default: inf\n",
      "Parameter PSDTol unchanged\n",
      "   Value: 1e-06  Min: 0.0  Max: inf  Default: 1e-06\n",
      "Changed value of parameter TimeLimit to 300.0\n",
      "   Prev: inf  Min: 0.0  Max: inf  Default: inf\n",
      "Parameter PSDTol unchanged\n",
      "   Value: 1e-06  Min: 0.0  Max: inf  Default: 1e-06\n"
     ]
    }
   ],
   "source": [
    "ecis_gurobi_L0L2_noHierarchy, _ = l0l2_hierarchy_optimize_quicksum(A= A_valid, f=f_valid, mu0= 1e-4, mu2= 1e-4,\n",
    "                                                                 correlateID= None)\n",
    "\n",
    "\n",
    "ecis_gurobi_L0L2_withHierarchy, _ = l0l2_hierarchy_optimize_quicksum(A= A_valid, f=f_valid, mu0= 1e-4, mu2= 1e-4,\n",
    "                                                                 correlateID= correlated_ID)"
   ]
  },
  {
   "cell_type": "code",
   "execution_count": 10,
   "metadata": {},
   "outputs": [],
   "source": [
    "from regression import L1L0, L2L0"
   ]
  },
  {
   "cell_type": "code",
   "execution_count": 11,
   "metadata": {},
   "outputs": [],
   "source": [
    "L1L0_opt = L1L0(alpha= 0.0001, l0_ratio = 0.5)  # one can try either alpha = 0.0001 or 0.0002\n",
    "L1L0_opt.fit(X=A_valid, y= f_valid )\n",
    "ecis_CVX_L0L1 = L1L0_opt.coef_ "
   ]
  },
  {
   "cell_type": "code",
   "execution_count": 12,
   "metadata": {},
   "outputs": [
    {
     "data": {
      "image/png": "[encoded data removed]",
      "text/plain": [
       "<Figure size 432x288 with 1 Axes>"
      ]
     },
     "metadata": {
      "needs_background": "light"
     },
     "output_type": "display_data"
    },
    {
     "name": "stdout",
     "output_type": "stream",
     "text": [
      "Non-Zero element in CVX method:  83\n",
      "Non-Zero element in gurobi method:  67\n"
     ]
    }
   ],
   "source": [
    "plt.plot(ecis_CVX_L0L1, label ='CVX')\n",
    "plt.plot(ecis_gurobi_L0L1, label ='gurobi')\n",
    "plt.legend()\n",
    "plt.show()\n",
    "\n",
    "print(\"Non-Zero element in CVX method: \", np.sum(np.abs(ecis_CVX_L0L1) > 1e-6))\n",
    "print(\"Non-Zero element in gurobi method: \", np.sum(np.abs(ecis_gurobi_L0L1) > 1e-6))"
   ]
  },
  {
   "cell_type": "code",
   "execution_count": null,
   "metadata": {},
   "outputs": [],
   "source": []
  },
  {
   "cell_type": "code",
   "execution_count": 13,
   "metadata": {},
   "outputs": [],
   "source": [
    "L2L0_opt = L2L0(alpha= 0.0001, l0_ratio = 0.5)\n",
    "L2L0_opt.fit(X=A_valid, y= f_valid )\n",
    "ecis_CVX_L0L2 = L2L0_opt.coef_ "
   ]
  },
  {
   "cell_type": "code",
   "execution_count": 14,
   "metadata": {},
   "outputs": [
    {
     "data": {
      "image/png": "[encoded data removed]",
      "text/plain": [
       "<Figure size 432x288 with 1 Axes>"
      ]
     },
     "metadata": {
      "needs_background": "light"
     },
     "output_type": "display_data"
    },
    {
     "name": "stdout",
     "output_type": "stream",
     "text": [
      "Non-Zero element in CVX method:  83\n",
      "Non-Zero element in gurobi method:  83\n"
     ]
    }
   ],
   "source": [
    "plt.plot(ecis_CVX_L0L2, label ='CVX')\n",
    "plt.plot(ecis_gurobi_L0L2_noHierarchy, label = 'gurobi')\n",
    "plt.legend()\n",
    "plt.show()\n",
    "\n",
    "print(\"Non-Zero element in CVX method: \", np.sum(np.abs(ecis_CVX_L0L2) > 1e-6))\n",
    "print(\"Non-Zero element in gurobi method: \", np.sum(np.abs(ecis_gurobi_L0L2_noHierarchy) > 1e-6))"
   ]
  },
  {
   "cell_type": "markdown",
   "metadata": {},
   "source": [
    "# Summary\n",
    "\n",
    "* From the current test results, gurobi and CVX do not show the same solution.\n",
    "* This inconsistency does not mean either CVX or gurobi is wrong.\n",
    "* The result indicates one should be careful with the definition in the funciton, even though they are the same in principle"
   ]
  },
  {
   "cell_type": "code",
   "execution_count": null,
   "metadata": {},
   "outputs": [],
   "source": []
  },
  {
   "cell_type": "code",
   "execution_count": null,
   "metadata": {},
   "outputs": [],
   "source": []
  }
 ],
 "metadata": {
  "kernelspec": {
   "display_name": "Python 3",
   "language": "python",
   "name": "python3"
  },
  "language_info": {
   "codemirror_mode": {
    "name": "ipython",
    "version": 3
   },
   "file_extension": ".py",
   "mimetype": "text/x-python",
   "name": "python",
   "nbconvert_exporter": "python",
   "pygments_lexer": "ipython3",
   "version": "3.7.7"
  }
 },
 "nbformat": 4,
 "nbformat_minor": 4
}
