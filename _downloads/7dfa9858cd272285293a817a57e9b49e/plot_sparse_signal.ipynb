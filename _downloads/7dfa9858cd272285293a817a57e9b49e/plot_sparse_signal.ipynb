{
  "cells": [
    {
      "cell_type": "markdown",
      "metadata": {},
      "source": [
        "\n# Recovering sparse signals\n\nIn this example we compare the results obtained from `BestSubsetSelection` with\nthose obtained using the `OrthogonalMatchingPursuit` regressor from **scikit-learn**.\n\nNote that although using best subset selection tend to give more accurate results,\n`OrthogonalMatchingPursuit` scales much better to larger problems.\n\nThis example is adapted from the scikit-learn documentation:\nhttps://scikit-learn.org/stable/auto_examples/linear_model/plot_omp.html#sphx-glr-auto-examples-linear-model-plot-omp-py\n"
      ]
    },
    {
      "cell_type": "code",
      "execution_count": null,
      "metadata": {
        "collapsed": false
      },
      "outputs": [],
      "source": [
        "import matplotlib.pyplot as plt\nimport numpy as np\nfrom sklearn.datasets import make_sparse_coded_signal\nfrom sklearn.linear_model import OrthogonalMatchingPursuit\n\nfrom sparselm.model import BestSubsetSelection\n\nn_components, n_features = 50, 20\nn_nonzero_coefs = 8\n\n# generate the data\ny, X, w = make_sparse_coded_signal(\n    n_samples=1,\n    n_components=n_components,\n    n_features=n_features,\n    n_nonzero_coefs=n_nonzero_coefs,\n    random_state=0,\n)\nX = X.T\n(idx,) = w.nonzero()\n\n# distort the clean signal\ny_noisy = y + 0.005 * np.random.randn(len(y))\n\n# plot the sparse signal\nplt.figure(figsize=(14, 7))\nplt.subplot(3, 2, (1, 2))\nplt.xlim(0, n_components)\nplt.title(\"Sparse signal\")\nplt.stem(idx, w[idx])\n\n# plot the noise-free reconstruction\nomp = OrthogonalMatchingPursuit(n_nonzero_coefs=n_nonzero_coefs)\nomp.fit(X, y)\ncoef = omp.coef_\n(idx_r,) = coef.nonzero()\nplt.subplot(3, 2, 3)\nplt.xlim(0, n_components)\nplt.title(\"Orthogonal Matching Pursuit (noise-free measurements)\")\nplt.stem(idx_r, coef[idx_r])\n\nbss = BestSubsetSelection(\n    sparse_bound=n_nonzero_coefs, solver=\"GUROBI\", solver_options={\"Threads\": 8}\n)\nbss.fit(X, y)\ncoef = bss.coef_\n(idx_r,) = coef.nonzero()\nplt.subplot(3, 2, 4)\nplt.xlim(0, n_components)\nplt.title(\"Best Subset Selection (noise-free measurements)\")\nplt.stem(idx_r, coef[idx_r])\n\n# plot the noisy reconstruction\nomp.fit(X, y_noisy)\ncoef = omp.coef_\n(idx_r,) = coef.nonzero()\nplt.subplot(3, 2, 5)\nplt.xlim(0, n_components)\nplt.title(\"Orthogonal Matching Pursuit recovery (noisy measurements)\")\nplt.stem(idx_r, coef[idx_r])\n\nbss.fit(X, y_noisy)\ncoef = bss.coef_\n(idx_r,) = coef.nonzero()\nplt.subplot(3, 2, 6)\nplt.xlim(0, n_components)\nplt.title(\"Best Subset Selection (noisy measurements)\")\nplt.stem(idx_r, coef[idx_r])\n\nplt.tight_layout()\nplt.show()"
      ]
    }
  ],
  "metadata": {
    "kernelspec": {
      "display_name": "Python 3",
      "language": "python",
      "name": "python3"
    },
    "language_info": {
      "codemirror_mode": {
        "name": "ipython",
        "version": 3
      },
      "file_extension": ".py",
      "mimetype": "text/x-python",
      "name": "python",
      "nbconvert_exporter": "python",
      "pygments_lexer": "ipython3",
      "version": "3.9.17"
    }
  },
  "nbformat": 4,
  "nbformat_minor": 0
}