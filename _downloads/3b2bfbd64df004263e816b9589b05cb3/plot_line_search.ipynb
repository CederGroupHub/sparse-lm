{
  "cells": [
    {
      "cell_type": "markdown",
      "metadata": {},
      "source": [
        "\n# Tuning hyperparameters with line search\n\nLine search can typically be used in optimizing regressors with multiple weakly or\nuncorrelated hyperparameters.\n\nThis example also showcases the usage of mixed L0 regressor where using a standard\ngrid search can be too computationally expensive..\n"
      ]
    },
    {
      "cell_type": "code",
      "execution_count": null,
      "metadata": {
        "collapsed": false
      },
      "outputs": [],
      "source": [
        "import numpy as np\nfrom sklearn.datasets import make_regression\nfrom sklearn.metrics import mean_squared_error, r2_score\nfrom sklearn.model_selection import KFold, train_test_split\n\nfrom sparselm.model import L2L0\nfrom sparselm.model_selection import LineSearchCV\n\nX, y, coef = make_regression(\n    n_samples=60,\n    n_features=30,\n    n_informative=8,\n    noise=40.0,\n    bias=-15.0,\n    coef=True,\n    random_state=0,\n)\n\nX_train, X_test, y_train, y_test = train_test_split(\n    X, y, test_size=0.25, random_state=0\n)\n\n# create an l2l0 estimator.\n# Groups for parameters must be provided each coefficient is in a singleton group.\ngroups = np.arange(30, dtype=int)\nl2l0 = L2L0(groups, fit_intercept=True, solver=\"GUROBI\", solver_options={\"Threads\": 4})\n\n# create cv search objects for each estimator\ncv5 = KFold(n_splits=5, shuffle=True, random_state=0)\n# LineSearchCV requires the parameters grid to be provided in a list of tuple format,\n# with order of parameters in the list being the order of them getting searched per\n# iteration.\n# The following example specifies the parameter alpha to be scanned first, then the\n# parameter eta.\nparams = [(\"alpha\", np.logspace(-6, 1, 5)), (\"eta\", np.logspace(-7, -1, 5))]\n\nl2l0_cv = LineSearchCV(l2l0, params, cv=cv5, n_jobs=4)\n\n# fit models on training data\nl2l0_cv.fit(X_train, y_train)\n\n# calculate model performance on test and train data\nl2l0_train = {\n    \"r2\": r2_score(y_train, l2l0_cv.predict(X_train)),\n    \"rmse\": np.sqrt(mean_squared_error(y_train, l2l0_cv.predict(X_train))),\n}\n\nl2l0_test = {\n    \"r2\": r2_score(y_test, l2l0_cv.predict(X_test)),\n    \"rmse\": np.sqrt(mean_squared_error(y_test, l2l0_cv.predict(X_test))),\n}\n\nprint(\"Performance metrics:\")\nprint(f\"    train r2: {l2l0_train['r2']:.3f}\")\nprint(f\"    test r2: {l2l0_test['r2']:.3f}\")\nprint(f\"    train rmse: {l2l0_train['rmse']:.3f}\")\nprint(f\"    test rmse: {l2l0_test['rmse']:.3f}\")"
      ]
    }
  ],
  "metadata": {
    "kernelspec": {
      "display_name": "Python 3",
      "language": "python",
      "name": "python3"
    },
    "language_info": {
      "codemirror_mode": {
        "name": "ipython",
        "version": 3
      },
      "file_extension": ".py",
      "mimetype": "text/x-python",
      "name": "python",
      "nbconvert_exporter": "python",
      "pygments_lexer": "ipython3",
      "version": "3.9.17"
    }
  },
  "nbformat": 4,
  "nbformat_minor": 0
}