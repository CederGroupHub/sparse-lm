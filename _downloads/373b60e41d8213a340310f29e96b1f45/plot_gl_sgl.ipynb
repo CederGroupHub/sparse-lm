{
  "cells": [
    {
      "cell_type": "markdown",
      "metadata": {},
      "source": [
        "\n# (Sparse) Group regression\n\nThis examples shows how to use group lasso and sparse group lasso to fit a simulated\ndataset with group-level sparsity and within-group sparsity.\n"
      ]
    },
    {
      "cell_type": "code",
      "execution_count": null,
      "metadata": {
        "collapsed": false
      },
      "outputs": [],
      "source": [
        "import warnings\n\nimport matplotlib.pyplot as plt\nimport numpy as np\nfrom sklearn.linear_model import Lasso\nfrom sklearn.metrics import mean_squared_error, r2_score\nfrom sklearn.model_selection import GridSearchCV, KFold, train_test_split\n\nfrom sparselm.dataset import make_group_regression\nfrom sparselm.model import GroupLasso, SparseGroupLasso\n\nwarnings.filterwarnings(\"ignore\", category=UserWarning)  # ignore convergence warnings\n\n# generate a dataset with group-level sparsity only\nX, y, groups, coefs = make_group_regression(\n    n_samples=400,\n    n_groups=10,\n    n_features_per_group=10,\n    n_informative_groups=5,\n    frac_informative_in_group=1.0,\n    bias=-10.0,\n    noise=200.0,\n    coef=True,\n    random_state=0,\n)\n\n# split data into train and test sets\nX_train, X_test, y_train, y_test = train_test_split(X, y, test_size=0.2, random_state=0)\n\n# create estimators\ncv5 = KFold(n_splits=5, shuffle=True, random_state=0)\nlasso_cv = GridSearchCV(\n    Lasso(fit_intercept=True), {\"alpha\": np.logspace(0, 2, 5)}, cv=cv5, n_jobs=-1\n)\nlasso_cv.fit(X_train, y_train)\nglasso_cv = GridSearchCV(\n    GroupLasso(groups=groups, fit_intercept=True),\n    {\"alpha\": np.logspace(0, 2, 5)},\n    cv=cv5,\n    n_jobs=-1,\n)\nglasso_cv.fit(X_train, y_train)\n\n# Plot predicted values\nfig, ax = plt.subplots()\nax.plot(\n    y_test, glasso_cv.predict(X_test), marker=\"o\", ls=\"\", alpha=0.5, label=\"group lasso\"\n)\nax.plot(y_test, lasso_cv.predict(X_test), marker=\"o\", ls=\"\", alpha=0.5, label=\"lasso\")\nax.plot([y_test.min(), y_test.max()], [y_test.min(), y_test.max()], \"k--\")\nax.legend()\nax.set_xlabel(\"true values\")\nax.set_ylabel(\"predicted values\")\nfig.show()\n\n# calculate model performance on test and train data\nlasso_train = {\n    \"r2\": r2_score(y_train, lasso_cv.predict(X_train)),\n    \"rmse\": np.sqrt(mean_squared_error(y_train, lasso_cv.predict(X_train))),\n}\n\nlasso_test = {\n    \"r2\": r2_score(y_test, lasso_cv.predict(X_test)),\n    \"rmse\": np.sqrt(mean_squared_error(y_test, lasso_cv.predict(X_test))),\n}\n\nglasso_train = {\n    \"r2\": r2_score(y_train, glasso_cv.predict(X_train)),\n    \"rmse\": np.sqrt(mean_squared_error(y_train, glasso_cv.predict(X_train))),\n}\n\nglasso_test = {\n    \"r2\": r2_score(y_test, glasso_cv.predict(X_test)),\n    \"rmse\": np.sqrt(mean_squared_error(y_test, glasso_cv.predict(X_test))),\n}\n\nprint(\"------- Performance metrics for signal with group-level sparsity only -------\\n\")\n\nprint(\"Lasso performance metrics:\")\nprint(f\"    train r2: {lasso_train['r2']:.3f}\")\nprint(f\"    test r2: {lasso_test['r2']:.3f}\")\nprint(f\"    train rmse: {lasso_train['rmse']:.3f}\")\nprint(f\"    test rmse: {lasso_test['rmse']:.3f}\")\n\nprint(\"Group Lasso performance metrics:\")\nprint(f\"    train r2: {glasso_train['r2']:.3f}\")\nprint(f\"    test r2: {glasso_test['r2']:.3f}\")\nprint(f\"    train rmse: {glasso_train['rmse']:.3f}\")\nprint(f\"    test rmse: {glasso_test['rmse']:.3f}\")\n\n# generate a dataset with group-level sparsity and within-group sparsity\nX, y, groups, coefs = make_group_regression(\n    n_samples=400,\n    n_groups=10,\n    n_features_per_group=10,\n    n_informative_groups=5,\n    frac_informative_in_group=0.5,\n    bias=-10.0,\n    noise=100.0,\n    coef=True,\n    random_state=0,\n)\n\n# split data into train and test sets\nX_train, X_test, y_train, y_test = train_test_split(X, y, test_size=0.2, random_state=0)\n\nglasso_cv = GridSearchCV(\n    GroupLasso(groups=groups, fit_intercept=True),\n    {\"alpha\": np.logspace(0, 2, 5)},\n    cv=cv5,\n    n_jobs=-1,\n)\nsglasso_cv = GridSearchCV(\n    SparseGroupLasso(groups=groups, fit_intercept=True),\n    {\"alpha\": np.logspace(0, 2, 5), \"l1_ratio\": np.arange(0.3, 0.8, 0.1)},\n    cv=cv5,\n    n_jobs=-1,\n)\nglasso_cv.fit(X_train, y_train)\nsglasso_cv.fit(X_train, y_train)\n\n# Plot predicted values\nfig, ax = plt.subplots()\nax.plot(\n    y_test, glasso_cv.predict(X_test), marker=\"o\", ls=\"\", alpha=0.5, label=\"group lasso\"\n)\nax.plot(\n    y_test,\n    sglasso_cv.predict(X_test),\n    marker=\"o\",\n    ls=\"\",\n    alpha=0.5,\n    label=\"sparse group lasso\",\n)\nax.plot([y_test.min(), y_test.max()], [y_test.min(), y_test.max()], \"k--\")\nax.legend()\nax.set_xlabel(\"true values\")\nax.set_ylabel(\"predicted values\")\nfig.show()\n\n# calculate model performance on test and train data\nglasso_train = {\n    \"r2\": r2_score(y_train, glasso_cv.predict(X_train)),\n    \"rmse\": np.sqrt(mean_squared_error(y_train, glasso_cv.predict(X_train))),\n}\n\nglasso_test = {\n    \"r2\": r2_score(y_test, glasso_cv.predict(X_test)),\n    \"rmse\": np.sqrt(mean_squared_error(y_test, glasso_cv.predict(X_test))),\n}\n\nsglasso_train = {\n    \"r2\": r2_score(y_train, sglasso_cv.predict(X_train)),\n    \"rmse\": np.sqrt(mean_squared_error(y_train, sglasso_cv.predict(X_train))),\n}\n\nsglasso_test = {\n    \"r2\": r2_score(y_test, sglasso_cv.predict(X_test)),\n    \"rmse\": np.sqrt(mean_squared_error(y_test, sglasso_cv.predict(X_test))),\n}\n\n\nprint(\n    \"------- Performance metrics for signal with group and within group sparsity -------\\n\"\n)\n\nprint(\"Group Lasso performance metrics:\")\nprint(f\"    train r2: {glasso_train['r2']:.3f}\")\nprint(f\"    test r2: {glasso_test['r2']:.3f}\")\nprint(f\"    train rmse: {glasso_train['rmse']:.3f}\")\nprint(f\"    test rmse: {glasso_test['rmse']:.3f}\")\n\nprint(\"Sparse Group Lasso performance metrics:\")\nprint(f\"    train r2: {sglasso_train['r2']:.3f}\")\nprint(f\"    test r2: {sglasso_test['r2']:.3f}\")\nprint(f\"    train rmse: {sglasso_train['rmse']:.3f}\")\nprint(f\"    test rmse: {sglasso_test['rmse']:.3f}\")"
      ]
    }
  ],
  "metadata": {
    "kernelspec": {
      "display_name": "Python 3",
      "language": "python",
      "name": "python3"
    },
    "language_info": {
      "codemirror_mode": {
        "name": "ipython",
        "version": 3
      },
      "file_extension": ".py",
      "mimetype": "text/x-python",
      "name": "python",
      "nbconvert_exporter": "python",
      "pygments_lexer": "ipython3",
      "version": "3.9.17"
    }
  },
  "nbformat": 4,
  "nbformat_minor": 0
}