{
  "cells": [
    {
      "cell_type": "markdown",
      "metadata": {},
      "source": [
        "\n# Using stepwise estimator\n\nStepwise estimator can be used to implement stepwise fitting. It comprises several\nregressor, each responsible for fitting specific rows of the feature matrix to\nthe target vector and passing the residual values down to be fitted by the subsequent\nregressors.\n\nThis example is purely for demonstration purpose and we do not expect any meaningful\nperformance improvement.\n\nHowever, stepwise fitting can be useful in certain problems where groups of covariates\nhave substantially different effects on the target vector.\n\nFor example, in fitting the atomic configration energy of an crystalline solid using a\ncluster expansion of an ionic system, one might want to fit the energy to single site\nfeatures first then subtract those main effects from the target, and fit the residual\nof energy to other cluster interactions.\n"
      ]
    },
    {
      "cell_type": "code",
      "execution_count": null,
      "metadata": {
        "collapsed": false
      },
      "outputs": [],
      "source": [
        "import matplotlib.pyplot as plt\nimport numpy as np\nfrom sklearn.datasets import make_regression\nfrom sklearn.linear_model import Lasso, Ridge\nfrom sklearn.metrics import mean_squared_error, r2_score\nfrom sklearn.model_selection import KFold, train_test_split\n\nfrom sparselm.model_selection import GridSearchCV\nfrom sparselm.stepwise import StepwiseEstimator\n\nX, y, coef = make_regression(\n    n_samples=200,\n    n_features=100,\n    n_informative=10,\n    noise=40.0,\n    bias=-15.0,\n    coef=True,\n    random_state=0,\n)\n\nX_train, X_test, y_train, y_test = train_test_split(\n    X, y, test_size=0.25, random_state=0\n)\n\n# Create estimators for each step.\n# Only the first estimator is allowed to fit_intercept!\nridge = Ridge(fit_intercept=True)\nlasso = Lasso(fit_intercept=False)\ncv5 = KFold(n_splits=5, shuffle=True, random_state=0)\nparams = {\"alpha\": np.logspace(-1, 1, 10)}\nestimator1 = GridSearchCV(ridge, params, cv=cv5, n_jobs=-1)\nestimator2 = GridSearchCV(lasso, params, cv=cv5, n_jobs=-1)\n\n# Create a StepwiseEstimator. It can be composed of either\n# regressors or GridSearchCV and LineSearchCV optimizers.\n# In this case, we first fit the target vector to the first 3\n# and the last feature, then fit the residual vector to the rest\n# of the features with GridSearchCV to optimize the Lasso\n# hyperparameter.\nstepwise = StepwiseEstimator(\n    [(\"est\", estimator1), (\"est2\", estimator2)], ((0, 1, 2, 99), tuple(range(3, 99)))\n)\n\n# fit models on training data\nstepwise.fit(X_train, y_train)\n\n# calculate model performance on test and train data\nstepwise_train = {\n    \"r2\": r2_score(y_train, stepwise.predict(X_train)),\n    \"rmse\": np.sqrt(mean_squared_error(y_train, stepwise.predict(X_train))),\n}\n\nstepwise_test = {\n    \"r2\": r2_score(y_test, stepwise.predict(X_test)),\n    \"rmse\": np.sqrt(mean_squared_error(y_test, stepwise.predict(X_test))),\n}\n\nprint(\"Lasso performance metrics:\")\nprint(f\"    train r2: {stepwise_train['r2']:.3f}\")\nprint(f\"    test r2: {stepwise_test['r2']:.3f}\")\nprint(f\"    train rmse: {stepwise_train['rmse']:.3f}\")\nprint(f\"    test rmse: {stepwise_test['rmse']:.3f}\")\n\n# plot model coefficients\nfig, ax = plt.subplots()\nax.plot(coef, \"o\", label=\"True coefficients\")\nax.plot(stepwise.coef_[[0, 1, 2, 99]], \"o\", label=\"Stepwise (ridge)\", alpha=0.5)\nax.plot(stepwise.coef_[range(3, 99)], \"o\", label=\"Stepwise (lasso)\", alpha=0.5)\nax.set_xlabel(\"covariate index\")\nax.set_ylabel(\"coefficient value\")\nax.legend()\nfig.show()\n\n# plot predicted values\nfig, ax = plt.subplots()\nax.plot(y_test, stepwise.predict(X_test), \"o\", label=\"Stepwise\", alpha=0.5)\nax.plot([y_test.min(), y_test.max()], [y_test.min(), y_test.max()], \"k--\")\nax.set_xlabel(\"true values\")\nax.set_ylabel(\"predicted values\")\nax.legend()"
      ]
    }
  ],
  "metadata": {
    "kernelspec": {
      "display_name": "Python 3",
      "language": "python",
      "name": "python3"
    },
    "language_info": {
      "codemirror_mode": {
        "name": "ipython",
        "version": 3
      },
      "file_extension": ".py",
      "mimetype": "text/x-python",
      "name": "python",
      "nbconvert_exporter": "python",
      "pygments_lexer": "ipython3",
      "version": "3.9.17"
    }
  },
  "nbformat": 4,
  "nbformat_minor": 0
}