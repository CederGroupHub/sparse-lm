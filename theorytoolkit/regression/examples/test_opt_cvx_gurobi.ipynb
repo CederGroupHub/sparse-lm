{
 "cells": [
  {
   "cell_type": "markdown",
   "metadata": {},
   "source": [
    "# Creating a basic Cluster Expansion"
   ]
  },
  {
   "cell_type": "code",
   "execution_count": 2,
   "metadata": {},
   "outputs": [],
   "source": [
    "import numpy as np\n",
    "import json\n",
    "from monty.serialization import loadfn\n",
    "from smol.cofe import ClusterSubspace, StructureWrangler, ClusterExpansion\n",
    "from smol.cofe.space import Cluster\n",
    "from smol.cofe.extern import EwaldTerm\n",
    "\n",
    "import matplotlib.pyplot as plt\n",
    "import matplotlib"
   ]
  },
  {
   "cell_type": "code",
   "execution_count": 3,
   "metadata": {},
   "outputs": [
    {
     "data": {
      "text/plain": [
       "Structure Summary\n",
       "Lattice\n",
       "    abc : 2.9698484799999996 2.9698484799999996 2.9698484799999996\n",
       " angles : 60.00000000000001 60.00000000000001 60.00000000000001\n",
       " volume : 18.521999981598675\n",
       "      A : -2.571964229070601 0.0 -1.4849242400000002\n",
       "      B : -2.571964229070601 0.0 1.4849242399999998\n",
       "      C : -1.7146428193804006 2.424871129793404 0.0\n",
       "PeriodicSite: Li+:0.333, Ti4+:0.333, Mn3+:0.333 (0.0000, 0.0000, 0.0000) [0.0000, 0.0000, 0.0000]\n",
       "PeriodicSite: O2-:0.500, F-:0.500 (-3.4293, 1.2124, -0.0000) [0.5000, 0.5000, 0.5000]"
      ]
     },
     "execution_count": 3,
     "metadata": {},
     "output_type": "execute_result"
    }
   ],
   "source": [
    "prim = loadfn('data/LMTOF.mson')\n",
    "prim"
   ]
  },
  {
   "cell_type": "code",
   "execution_count": null,
   "metadata": {},
   "outputs": [],
   "source": []
  },
  {
   "cell_type": "code",
   "execution_count": 4,
   "metadata": {},
   "outputs": [],
   "source": [
    "subspace = ClusterSubspace.from_cutoffs(prim,\n",
    "                                      cutoffs={2: 7.1, 3: 4, 4:4}, # will include orbits of 2 and 3 sites.\n",
    "                                      basis='sinusoid',\n",
    "                                      supercell_size='volume')\n",
    "\n",
    "# supercell_size specifies the method to determine the supercell size\n",
    "# when trying to match a structure.\n",
    "# (See pymatgen.structure_mathcer.StructureMatcher for more info)\n",
    "\n",
    "subspace.add_external_term(EwaldTerm(eta=None))\n",
    "# print(subspace) # single site and empty orbits are always included."
   ]
  },
  {
   "cell_type": "code",
   "execution_count": 5,
   "metadata": {},
   "outputs": [],
   "source": [
    "A_valid = np.load('data/A_valid_7_4_4_MnTiOF_fromBin_sinusoid', allow_pickle=True)\n",
    "f_valid = np.load('data/f_valid_7_4_4_MnTiOF_fromBin_sinusoid', allow_pickle=True)"
   ]
  },
  {
   "cell_type": "markdown",
   "metadata": {},
   "source": [
    "## Optimization started here"
   ]
  },
  {
   "cell_type": "code",
   "execution_count": 6,
   "metadata": {},
   "outputs": [],
   "source": [
    "from theorytoolkit.regression.gurobi_optimization import l0l1_diretct_optimize, l0l2_hierarchy_optimize_quicksum"
   ]
  },
  {
   "cell_type": "code",
   "execution_count": 7,
   "metadata": {},
   "outputs": [
    {
     "name": "stdout",
     "output_type": "stream",
     "text": [
      "[[], [], [], [], [50, 47, 46, 39, 37, 36], [51, 49, 48, 40, 38, 37], [46, 42, 41, 36], [48, 47, 43, 42, 37], [49, 44, 43, 38], [51, 50, 45, 40, 39], [50, 48, 46], [51, 49, 47], [], [], [], [], [], [], [], [], [], [], [], [], [], [], [], [], [], [], [], [], [], [], [], [], [72, 71, 67, 58, 53, 52], [74, 73, 69, 68, 59, 54, 53], [76, 75, 70, 60, 55, 54], [77, 69, 67, 59, 58, 56], [78, 70, 68, 60, 59, 57], [71, 62, 61, 52], [73, 72, 63, 62, 53], [75, 74, 64, 63, 54], [76, 65, 64, 55], [78, 77, 66, 57, 56], [79, 73, 71, 67], [80, 74, 72, 69], [80, 75, 73, 68], [81, 76, 74, 70], [80, 79, 77, 68, 67], [81, 80, 78, 70, 69], [], [], [], [], [], [], [], [], [], [], [], [], [], [], [], [], [], [], [], [], [], [], [], [], [], [], [], [], [], []]\n"
     ]
    }
   ],
   "source": [
    "correlated_ID = subspace.function_hierarchy(min_size=2, invert=True)\n",
    "print(correlated_ID)"
   ]
  },
  {
   "cell_type": "code",
   "execution_count": 8,
   "metadata": {},
   "outputs": [
    {
     "name": "stdout",
     "output_type": "stream",
     "text": [
      "Academic license - for non-commercial use only - expires 2021-12-06\n",
      "Using license file /home/lbluque/gurobi.lic\n",
      "Changed value of parameter TimeLimit to 300.0\n",
      "   Prev: inf  Min: 0.0  Max: inf  Default: inf\n",
      "Changed value of parameter PSDTol to 1e-05\n",
      "   Prev: 1e-06  Min: 0.0  Max: inf  Default: 1e-06\n"
     ]
    }
   ],
   "source": [
    "mu0, mu1, mu2 = 1e-4, 1e-4, 1e-4\n",
    "ecis_gurobi_L0L1 = l0l1_diretct_optimize(A=A_valid, f=f_valid, mu0=mu0, mu1=mu1)"
   ]
  },
  {
   "cell_type": "code",
   "execution_count": 9,
   "metadata": {},
   "outputs": [
    {
     "name": "stdout",
     "output_type": "stream",
     "text": [
      "Changed value of parameter TimeLimit to 300.0\n",
      "   Prev: inf  Min: 0.0  Max: inf  Default: inf\n",
      "Parameter PSDTol unchanged\n",
      "   Value: 1e-06  Min: 0.0  Max: inf  Default: 1e-06\n",
      "Changed value of parameter TimeLimit to 300.0\n",
      "   Prev: inf  Min: 0.0  Max: inf  Default: inf\n",
      "Parameter PSDTol unchanged\n",
      "   Value: 1e-06  Min: 0.0  Max: inf  Default: 1e-06\n"
     ]
    }
   ],
   "source": [
    "ecis_gurobi_L0L2_noHierarchy, _ = l0l2_hierarchy_optimize_quicksum(A= A_valid, f=f_valid, mu0=mu0, mu2=mu2,\n",
    "                                                                 correlateID= None)\n",
    "\n",
    "ecis_gurobi_L0L2_withHierarchy, _ = l0l2_hierarchy_optimize_quicksum(A= A_valid, f=f_valid, mu0=mu0, mu2=mu2,\n",
    "                                                                 correlateID= correlated_ID)"
   ]
  },
  {
   "cell_type": "code",
   "execution_count": 10,
   "metadata": {},
   "outputs": [],
   "source": [
    "from theorytoolkit.regression import L1L0, L2L0"
   ]
  },
  {
   "cell_type": "code",
   "execution_count": 11,
   "metadata": {},
   "outputs": [],
   "source": [
    "f = 1 / (2 * A_valid.shape[0])\n",
    "alpha = 2 * f * mu0 # this is the scale conversion bw gurobi direct and cvxpy classes\n",
    "# If using different values of mu0, mu1 and mu2 you will need to play with l0_ratio as well\n",
    "\n",
    "# if gurobi is installed cvxpy classes below will use it as solver.\n",
    "# otherwise will default to ECOS_BB probably...\n",
    "L1L0_opt = L1L0(alpha=alpha, l0_ratio=0.5)\n",
    "L1L0_opt.fit(X=A_valid, y= f_valid)\n",
    "ecis_CVX_L0L1 = L1L0_opt.coef_ "
   ]
  },
  {
   "cell_type": "code",
   "execution_count": 12,
   "metadata": {},
   "outputs": [
    {
     "data": {
      "image/png": "[encoded data removed]",
      "text/plain": [
       "<Figure size 432x288 with 1 Axes>"
      ]
     },
     "metadata": {
      "needs_background": "light"
     },
     "output_type": "display_data"
    },
    {
     "name": "stdout",
     "output_type": "stream",
     "text": [
      "Non-Zero element in CVX method:  67\n",
      "Non-Zero element in gurobi method:  67\n"
     ]
    }
   ],
   "source": [
    "plt.plot(ecis_CVX_L0L1, label ='CVX')\n",
    "plt.plot(ecis_gurobi_L0L1, label ='gurobi')\n",
    "plt.legend()\n",
    "plt.show()\n",
    "\n",
    "print(\"Non-Zero element in CVX method: \", np.sum(np.abs(ecis_CVX_L0L1) > 1e-6))\n",
    "print(\"Non-Zero element in gurobi method: \", np.sum(np.abs(ecis_gurobi_L0L1) > 1e-6))"
   ]
  },
  {
   "cell_type": "code",
   "execution_count": null,
   "metadata": {},
   "outputs": [],
   "source": []
  },
  {
   "cell_type": "code",
   "execution_count": 13,
   "metadata": {},
   "outputs": [],
   "source": [
    "L2L0_opt = L2L0(alpha=alpha, l0_ratio=0.5)\n",
    "L2L0_opt.fit(X=A_valid, y=f_valid)\n",
    "ecis_CVX_L0L2 = L2L0_opt.coef_ "
   ]
  },
  {
   "cell_type": "code",
   "execution_count": 14,
   "metadata": {},
   "outputs": [
    {
     "data": {
      "image/png": "[encoded data removed]",
      "text/plain": [
       "<Figure size 432x288 with 1 Axes>"
      ]
     },
     "metadata": {
      "needs_background": "light"
     },
     "output_type": "display_data"
    },
    {
     "name": "stdout",
     "output_type": "stream",
     "text": [
      "Non-Zero element in CVX method:  83\n",
      "Non-Zero element in gurobi method:  83\n"
     ]
    }
   ],
   "source": [
    "plt.plot(ecis_CVX_L0L2, label ='CVX')\n",
    "plt.plot(ecis_gurobi_L0L2_noHierarchy, label = 'gurobi')\n",
    "plt.legend()\n",
    "plt.show()\n",
    "\n",
    "print(\"Non-Zero element in CVX method: \", np.sum(np.abs(ecis_CVX_L0L2) > 1e-6))\n",
    "print(\"Non-Zero element in gurobi method: \", np.sum(np.abs(ecis_gurobi_L0L2_noHierarchy) > 1e-6))"
   ]
  },
  {
   "cell_type": "markdown",
   "metadata": {},
   "source": [
    "# Old Summary\n",
    "\n",
    "* From the current test results, gurobi and CVX do not show the same solution.\n",
    "* This inconsistency does not mean either CVX or gurobi is wrong.\n",
    "* The result indicates one should be careful with the definition in the funciton, even though they are the same in principle"
   ]
  },
  {
   "cell_type": "markdown",
   "metadata": {},
   "source": [
    "# New Summary\n",
    "\n",
    "* From the current test results, gurobi and CVX show almost the same solutions, if care is take in setting the equivalent hyperparameters\n",
    "* cvxpy solvers are written so that hyperparameters are not problem size dependent, So they will differ from the ones\n",
    "  used in gurobi by a factor of 2 times the number of data points\n",
    "* There are some differences in the obtained solutions particularly at hyperparameter values where the l0 norm starts to zero out some coefficients but the solutions are both valid\n",
    "* This inconsistency does not mean either cvx or gurobi is wrong."
   ]
  },
  {
   "cell_type": "code",
   "execution_count": null,
   "metadata": {},
   "outputs": [],
   "source": []
  },
  {
   "cell_type": "code",
   "execution_count": null,
   "metadata": {},
   "outputs": [],
   "source": []
  }
 ],
 "metadata": {
  "kernelspec": {
   "display_name": "Python 3",
   "language": "python",
   "name": "python3"
  },
  "language_info": {
   "codemirror_mode": {
    "name": "ipython",
    "version": 3
   },
   "file_extension": ".py",
   "mimetype": "text/x-python",
   "name": "python",
   "nbconvert_exporter": "python",
   "pygments_lexer": "ipython3",
   "version": "3.8.11"
  }
 },
 "nbformat": 4,
 "nbformat_minor": 4
}
